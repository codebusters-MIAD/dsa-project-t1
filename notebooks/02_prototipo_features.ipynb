{
 "cells": [
  {
   "cell_type": "markdown",
   "id": "17efc21c",
   "metadata": {},
   "source": [
    "# Prototipo de Feature Engineering\n",
    "## Vectorización de texto y extracción de características"
   ]
  },
  {
   "cell_type": "code",
   "execution_count": null,
   "id": "351b5a20",
   "metadata": {},
   "outputs": [],
   "source": [
    "# Imports\n",
    "from sklearn.feature_extraction.text import TfidfVectorizer"
   ]
  },
  {
   "cell_type": "markdown",
   "id": "6678e8ea",
   "metadata": {},
   "source": [
    "## TODO: Experimentación con features"
   ]
  }
 ],
 "metadata": {
  "language_info": {
   "name": "python"
  }
 },
 "nbformat": 4,
 "nbformat_minor": 5
}

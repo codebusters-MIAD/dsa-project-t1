{
 "cells": [
  {
   "cell_type": "markdown",
   "id": "da22f6f2",
   "metadata": {},
   "source": [
    "# EDA - Exploración de Fuentes de Datos\n",
    "## TMDb y OMDb APIs"
   ]
  },
  {
   "cell_type": "code",
   "execution_count": null,
   "id": "86cf889c",
   "metadata": {},
   "outputs": [],
   "source": [
    "# Imports\n",
    "import pandas as pd\n",
    "import numpy as np\n",
    "import matplotlib.pyplot as plt\n",
    "import seaborn as sns"
   ]
  },
  {
   "cell_type": "markdown",
   "id": "afa93883",
   "metadata": {},
   "source": [
    "## TODO: Exploración de datos de TMDb y OMDb"
   ]
  }
 ],
 "metadata": {
  "language_info": {
   "name": "python"
  }
 },
 "nbformat": 4,
 "nbformat_minor": 5
}

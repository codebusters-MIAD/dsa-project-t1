{
 "cells": [
  {
   "cell_type": "markdown",
   "id": "60e1e248",
   "metadata": {},
   "source": [
    "# Baseline - Clasificación Multietiqueta\n",
    "## Modelo baseline para detectar triggers de contenido"
   ]
  },
  {
   "cell_type": "code",
   "execution_count": null,
   "id": "0a98b06c",
   "metadata": {},
   "outputs": [],
   "source": [
    "# Imports\n",
    "from sklearn.multioutput import MultiOutputClassifier\n",
    "from sklearn.ensemble import RandomForestClassifier"
   ]
  },
  {
   "cell_type": "markdown",
   "id": "9f7270eb",
   "metadata": {},
   "source": [
    "## TODO: Entrenamiento y evaluación de baseline"
   ]
  }
 ],
 "metadata": {
  "language_info": {
   "name": "python"
  }
 },
 "nbformat": 4,
 "nbformat_minor": 5
}
